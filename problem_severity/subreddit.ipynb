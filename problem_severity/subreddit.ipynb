{
  "nbformat": 4,
  "nbformat_minor": 0,
  "metadata": {
    "colab": {
      "provenance": []
    },
    "kernelspec": {
      "name": "python3",
      "display_name": "Python 3"
    },
    "language_info": {
      "name": "python"
    }
  },
  "cells": [
    {
      "cell_type": "code",
      "execution_count": 6,
      "metadata": {
        "colab": {
          "base_uri": "https://localhost:8080/"
        },
        "id": "kG81bexQvGhE",
        "outputId": "a1abfafb-99da-4a05-a7c9-6b869e60c7fd"
      },
      "outputs": [
        {
          "output_type": "stream",
          "name": "stderr",
          "text": [
            "<ipython-input-6-cf5360feef47>:3: DtypeWarning: Columns (0,2,3,10,11,12,14,16,20,21,22,23,24,27,28,29,31,32,33,34,35,37,38,39,40,41,42,43,46,47,48,49,50,51,52,53,54,55,56,57,58,59,60,61,62,64,65,68,69,72,74,76,78,80,81) have mixed types. Specify dtype option on import or set low_memory=False.\n",
            "  df = pd.read_csv(\"/ucr_comments.csv\")\n"
          ]
        },
        {
          "output_type": "stream",
          "name": "stdout",
          "text": [
            "<class 'pandas.core.frame.DataFrame'>\n",
            "RangeIndex: 298570 entries, 0 to 298569\n",
            "Data columns (total 82 columns):\n",
            " #   Column                           Non-Null Count   Dtype  \n",
            "---  ------                           --------------   -----  \n",
            " 0   distinguished                    292 non-null     object \n",
            " 1   id                               298568 non-null  object \n",
            " 2   score_hidden                     206837 non-null  object \n",
            " 3   gilded                           298567 non-null  object \n",
            " 4   author                           298567 non-null  object \n",
            " 5   author_flair_text                26359 non-null   object \n",
            " 6   downs                            90190 non-null   float64\n",
            " 7   retrieved_on                     284338 non-null  float64\n",
            " 8   edited                           298566 non-null  object \n",
            " 9   subreddit_id                     298566 non-null  object \n",
            " 10  controversiality                 298567 non-null  object \n",
            " 11  archived                         213047 non-null  object \n",
            " 12  ups                              94630 non-null   object \n",
            " 13  subreddit                        298567 non-null  object \n",
            " 14  score                            298568 non-null  object \n",
            " 15  author_flair_css_class           0 non-null       float64\n",
            " 16  created_utc                      298568 non-null  object \n",
            " 17  parent_id                        298566 non-null  object \n",
            " 18  link_id                          298568 non-null  object \n",
            " 19  body                             298562 non-null  object \n",
            " 20  name                             202836 non-null  object \n",
            " 21  removal_reason                   2 non-null       object \n",
            " 22  report_reasons                   60040 non-null   object \n",
            " 23  created                          80368 non-null   object \n",
            " 24  num_reports                      60040 non-null   object \n",
            " 25  approved_by                      0 non-null       float64\n",
            " 26  likes                            0 non-null       float64\n",
            " 27  body_html                        306 non-null     object \n",
            " 28  replies                          2 non-null       object \n",
            " 29  saved                            80635 non-null   object \n",
            " 30  banned_by                        0 non-null       float64\n",
            " 31  mod_reports                      80633 non-null   object \n",
            " 32  user_reports                     80635 non-null   object \n",
            " 33  stickied                         287765 non-null  object \n",
            " 34  author_cakeday                   1107 non-null    object \n",
            " 35  can_gild                         281379 non-null  object \n",
            " 36  approved_at_utc                  1 non-null       float64\n",
            " 37  can_mod_post                     161899 non-null  object \n",
            " 38  collapsed                        273044 non-null  object \n",
            " 39  collapsed_reason                 3418 non-null    object \n",
            " 40  banned_at_utc                    2 non-null       object \n",
            " 41  is_submitter                     279605 non-null  object \n",
            " 42  permalink                        277826 non-null  object \n",
            " 43  subreddit_type                   276890 non-null  object \n",
            " 44  mod_note                         1 non-null       float64\n",
            " 45  mod_reason_by                    0 non-null       float64\n",
            " 46  mod_reason_title                 1 non-null       object \n",
            " 47  no_follow                        275056 non-null  object \n",
            " 48  send_replies                     275056 non-null  object \n",
            " 49  author_flair_template_id         25015 non-null   object \n",
            " 50  author_flair_background_color    10574 non-null   object \n",
            " 51  author_flair_richtext            253991 non-null  object \n",
            " 52  author_flair_text_color          47436 non-null   object \n",
            " 53  author_flair_type                253991 non-null  object \n",
            " 54  rte_mode                         918 non-null     object \n",
            " 55  author_created_utc               145060 non-null  object \n",
            " 56  author_fullname                  253096 non-null  object \n",
            " 57  subreddit_name_prefixed          257047 non-null  object \n",
            " 58  gildings                         269515 non-null  object \n",
            " 59  author_patreon_flair             249339 non-null  object \n",
            " 60  quarantined                      69467 non-null   object \n",
            " 61  locked                           259215 non-null  object \n",
            " 62  all_awardings                    259091 non-null  object \n",
            " 63  total_awards_received            259091 non-null  float64\n",
            " 64  steward_reports                  12491 non-null   object \n",
            " 65  awarders                         140234 non-null  object \n",
            " 66  associated_award                 0 non-null       float64\n",
            " 67  collapsed_because_crowd_control  0 non-null       float64\n",
            " 68  author_premium                   231741 non-null  object \n",
            " 69  treatment_tags                   235802 non-null  object \n",
            " 70  top_awarded_type                 0 non-null       float64\n",
            " 71  comment_type                     0 non-null       float64\n",
            " 72  collapsed_reason_code            3544 non-null    object \n",
            " 73  retrieved_utc                    14214 non-null   float64\n",
            " 74  author_is_blocked                88365 non-null   object \n",
            " 75  unrepliable_reason               0 non-null       float64\n",
            " 76  editable                         39 non-null      object \n",
            " 77  updated_on                       60073 non-null   float64\n",
            " 78  body_sha1                        36 non-null      object \n",
            " 79  nest_level                       22 non-null      float64\n",
            " 80  _meta                            44750 non-null   object \n",
            " 81  media_metadata                   350 non-null     object \n",
            "dtypes: float64(18), object(64)\n",
            "memory usage: 186.8+ MB\n",
            "None\n"
          ]
        }
      ],
      "source": [
        "import pandas as pd\n",
        "\n",
        "df = pd.read_csv(\"/ucr_comments.csv\")\n",
        "\n",
        "print(df.info())"
      ]
    }
  ]
}