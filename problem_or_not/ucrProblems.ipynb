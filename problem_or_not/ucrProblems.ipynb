{
 "cells": [
  {
   "cell_type": "code",
   "execution_count": 104,
   "id": "505f9d83-b0d7-4adb-94f4-58d17903a224",
   "metadata": {},
   "outputs": [],
   "source": [
    "import pandas as pd"
   ]
  },
  {
   "cell_type": "code",
   "execution_count": 105,
   "id": "0bbe52b3-14f8-42fa-83a3-510303a2b324",
   "metadata": {},
   "outputs": [
    {
     "name": "stderr",
     "output_type": "stream",
     "text": [
      "/var/folders/81/f6pktq9j1890fr1vrlzms4zm0000gn/T/ipykernel_74758/3744971506.py:1: DtypeWarning: Columns (0,2,8,9,10,12,14,16,17,19,20,22,25,28,31,38,43,44,45,48,50,57,61,63,64,67,69,70,71,73,82,83,88,89,90,93,96,97,99,101,102,103,104,105,106,107,108,109,111,113,114,116,117,118,120,123,124,125,127,129,130) have mixed types. Specify dtype option on import or set low_memory=False.\n",
      "  df = pd.read_csv('ucr_submissions.csv')\n"
     ]
    }
   ],
   "source": [
    "df = pd.read_csv('ucr_submissions.csv')\n",
    "#pd.set_option('display.max_rows', None)\n",
    "#pd.set_option('display.max_columns', None)"
   ]
  },
  {
   "cell_type": "code",
   "execution_count": null,
   "id": "6b8f1fba-7ec1-4548-a152-9bec69f645bf",
   "metadata": {},
   "outputs": [],
   "source": [
    "df.set_index('title')\n",
    "#column_counts = df.columns.value_counts()\n",
    "#column_counts\n",
    "\n",
    "irrelevant = ['author_flair_background_color', 'author_flair_css_class','author_flair_richtext',]\n",
    "df = df.drop(irrelevant, axis=1)\n",
    "df"
   ]
  }
 ],
 "metadata": {
  "kernelspec": {
   "display_name": "Python 3 (ipykernel)",
   "language": "python",
   "name": "python3"
  },
  "language_info": {
   "codemirror_mode": {
    "name": "ipython",
    "version": 3
   },
   "file_extension": ".py",
   "mimetype": "text/x-python",
   "name": "python",
   "nbconvert_exporter": "python",
   "pygments_lexer": "ipython3",
   "version": "3.12.4"
  }
 },
 "nbformat": 4,
 "nbformat_minor": 5
}
